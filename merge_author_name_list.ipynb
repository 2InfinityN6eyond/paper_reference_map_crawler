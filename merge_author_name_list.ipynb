{
 "cells": [
  {
   "cell_type": "code",
   "execution_count": 1,
   "metadata": {},
   "outputs": [],
   "source": [
    "import json\n",
    "import os\n",
    "\n",
    "\n",
    "ORIGINAL_AUTHOR_NAME_LIST_PATH = './author_name_list.json'\n",
    "ADDITIVE_AUTHOR_NAME_LIST_PATH = './author_name_list_robotics.json'\n",
    "\n",
    "with open(ORIGINAL_AUTHOR_NAME_LIST_PATH, 'r') as f:\n",
    "    original_author_name_list = json.load(f)\n",
    "with open(ADDITIVE_AUTHOR_NAME_LIST_PATH, 'r') as f:\n",
    "    additive_author_name_list = json.load(f)"
   ]
  },
  {
   "cell_type": "code",
   "execution_count": 3,
   "metadata": {},
   "outputs": [],
   "source": [
    "for author_name in additive_author_name_list:\n",
    "    if author_name not in original_author_name_list:\n",
    "        original_author_name_list.append(author_name)"
   ]
  },
  {
   "cell_type": "code",
   "execution_count": 4,
   "metadata": {},
   "outputs": [],
   "source": [
    "with open(ORIGINAL_AUTHOR_NAME_LIST_PATH, 'w') as f:\n",
    "    json.dump(original_author_name_list, f, indent=4, ensure_ascii=False)"
   ]
  }
 ],
 "metadata": {
  "kernelspec": {
   "display_name": "first",
   "language": "python",
   "name": "python3"
  },
  "language_info": {
   "codemirror_mode": {
    "name": "ipython",
    "version": 3
   },
   "file_extension": ".py",
   "mimetype": "text/x-python",
   "name": "python",
   "nbconvert_exporter": "python",
   "pygments_lexer": "ipython3",
   "version": "3.10.9"
  }
 },
 "nbformat": 4,
 "nbformat_minor": 2
}
