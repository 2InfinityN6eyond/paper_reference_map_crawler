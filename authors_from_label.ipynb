{
 "cells": [
  {
   "cell_type": "code",
   "execution_count": 6,
   "metadata": {},
   "outputs": [],
   "source": [
    "import os\n",
    "import json\n",
    "from dataclasses import dataclass\n",
    "from selenium import webdriver\n",
    "from selenium.webdriver.common.keys import Keys\n",
    "from selenium.webdriver.common.by import By\n",
    "import time\n",
    "from tqdm import tqdm\n",
    "\n",
    "@dataclass\n",
    "class Expertise :\n",
    "    name : str\n",
    "    url : str\n",
    "\n",
    "    def toJSON(self):\n",
    "        return json.dumps(self, default=lambda o: o.__dict__, \n",
    "            sort_keys=True, indent=4)\n",
    "    def toDict(self):\n",
    "        return json.loads(self.toJSON())\n",
    "    def fromDict(self, dic):\n",
    "        self.name = dic['name']\n",
    "        self.url = dic['url']\n",
    "\n",
    "expertise_dict = {}\n",
    "EXPERTISE_FILE_PATH = \"./expertise_dict.json\"\n",
    "if os.path.exists(EXPERTISE_FILE_PATH) :\n",
    "    with open(EXPERTISE_FILE_PATH, \"r\") as f :\n",
    "        expertise_dict_raw = json.load(f)\n",
    "    for k, v in expertise_dict_raw.items() :\n",
    "        expertise_dict[k] = Expertise(**v)\n"
   ]
  },
  {
   "cell_type": "code",
   "execution_count": 7,
   "metadata": {},
   "outputs": [
    {
     "data": {
      "text/plain": [
       "{'Computer Vision': Expertise(name='Computer Vision', url='https://scholar.google.com/citations?view_op=search_authors&hl=ko&mauthors=label:computer_vision'),\n",
       " 'computational materials science': Expertise(name='computational materials science', url='https://scholar.google.com/citations?view_op=search_authors&hl=ko&mauthors=label:computational_materials_science'),\n",
       " 'computational nano-mechanics': Expertise(name='computational nano-mechanics', url='https://scholar.google.com/citations?view_op=search_authors&hl=ko&mauthors=label:computational_nano_mechanics'),\n",
       " 'molecular dynamics': Expertise(name='molecular dynamics', url='https://scholar.google.com/citations?view_op=search_authors&hl=ko&mauthors=label:molecular_dynamics'),\n",
       " 'density functional theory': Expertise(name='density functional theory', url='https://scholar.google.com/citations?view_op=search_authors&hl=ko&mauthors=label:density_functional_theory'),\n",
       " 'li ion batteries': Expertise(name='li ion batteries', url='https://scholar.google.com/citations?view_op=search_authors&hl=ko&mauthors=label:li_ion_batteries')}"
      ]
     },
     "execution_count": 7,
     "metadata": {},
     "output_type": "execute_result"
    }
   ],
   "source": [
    "expertise_dict"
   ]
  },
  {
   "cell_type": "code",
   "execution_count": 9,
   "metadata": {},
   "outputs": [
    {
     "data": {
      "text/plain": [
       "'https://scholar.google.com/citations?view_op=search_authors&hl=ko&mauthors=label:computer_vision'"
      ]
     },
     "execution_count": 9,
     "metadata": {},
     "output_type": "execute_result"
    }
   ],
   "source": [
    "expertise_dict['Computer Vision'].url"
   ]
  }
 ],
 "metadata": {
  "kernelspec": {
   "display_name": "first",
   "language": "python",
   "name": "python3"
  },
  "language_info": {
   "codemirror_mode": {
    "name": "ipython",
    "version": 3
   },
   "file_extension": ".py",
   "mimetype": "text/x-python",
   "name": "python",
   "nbconvert_exporter": "python",
   "pygments_lexer": "ipython3",
   "version": "3.10.9"
  }
 },
 "nbformat": 4,
 "nbformat_minor": 2
}
