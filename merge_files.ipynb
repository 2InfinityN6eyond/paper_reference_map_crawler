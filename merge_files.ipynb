{
 "cells": [
  {
   "cell_type": "code",
   "execution_count": 21,
   "metadata": {},
   "outputs": [
    {
     "name": "stdout",
     "output_type": "stream",
     "text": [
      "number of institution : 0\n",
      "number of expertise : 0\n",
      "number of author : 264\n",
      "number of paper : 3844\n"
     ]
    }
   ],
   "source": [
    "import os\n",
    "import json\n",
    "from containers import Institution, Author, Paper, Expertise\n",
    "\n",
    "institution_dict = {}\n",
    "expertise_dict = {}\n",
    "whole_author_list = []\n",
    "whole_paper_dict = {}\n",
    "\n",
    "INSTITUTION_FILE_PATH = \"./institution_dict.json\"\n",
    "if os.path.exists(INSTITUTION_FILE_PATH) :\n",
    "    with open(INSTITUTION_FILE_PATH, \"r\") as f :\n",
    "        institution_dict_raw = json.load(f)\n",
    "    for k, v in institution_dict_raw.items() :\n",
    "        institution_dict[k] = Institution(**v)\n",
    "\n",
    "EXPERTISE_FILE_PATH = \"./expertise_dict.json\"\n",
    "if os.path.exists(EXPERTISE_FILE_PATH) :\n",
    "    with open(EXPERTISE_FILE_PATH, \"r\") as f :\n",
    "        expertise_dict_raw = json.load(f)\n",
    "    for k, v in expertise_dict_raw.items() :\n",
    "        expertise_dict[k] = Expertise(**v)\n",
    "\n",
    "AUTHOR_FILE_PATH = \"./author_list.json\"\n",
    "if os.path.exists(AUTHOR_FILE_PATH) :\n",
    "    with open(AUTHOR_FILE_PATH, \"r\") as f :\n",
    "        author_list_raw = json.load(f)\n",
    "    for author in author_list_raw :\n",
    "        whole_author_list.append(Author(**author))\n",
    "\n",
    "WHOLE_PAPER_FILE_PATH = \"./processed_paper_dict.json\"\n",
    "if os.path.exists(WHOLE_PAPER_FILE_PATH) :\n",
    "    with open(WHOLE_PAPER_FILE_PATH, \"r\") as f :\n",
    "        whole_paper_dict = json.load(f)\n",
    "    for k, v in whole_paper_dict.items() :\n",
    "        whole_paper_dict[k] = Paper(**v)\n",
    "\n",
    "print(f\"number of institution : {len(institution_dict)}\")\n",
    "print(f\"number of expertise : {len(expertise_dict)}\")\n",
    "print(f\"number of author : {len(whole_author_list)}\")\n",
    "print(f\"number of paper : {len(whole_paper_dict)}\")\n"
   ]
  },
  {
   "cell_type": "code",
   "execution_count": 20,
   "metadata": {},
   "outputs": [
    {
     "name": "stdout",
     "output_type": "stream",
     "text": [
      "number of institution : 175\n",
      "number of expertise : 249\n",
      "number of author : 213\n",
      "number of paper : 3245\n"
     ]
    }
   ],
   "source": [
    "institution_dict_2 = {}\n",
    "expertise_dict_2 = {}\n",
    "whole_author_list_2 = []\n",
    "whole_paper_dict_2 = {}\n",
    "\n",
    "INSTITUTION_FILE_PATH = \"./institution_dict_2.json\"\n",
    "if os.path.exists(INSTITUTION_FILE_PATH) :\n",
    "    with open(INSTITUTION_FILE_PATH, \"r\") as f :\n",
    "        institution_dict_raw = json.load(f)\n",
    "    for k, v in institution_dict_raw.items() :\n",
    "        institution_dict_2[k] = Institution(**v)\n",
    "\n",
    "EXPERTISE_FILE_PATH = \"./expertise_dict_2.json\"\n",
    "if os.path.exists(EXPERTISE_FILE_PATH) :\n",
    "    with open(EXPERTISE_FILE_PATH, \"r\") as f :\n",
    "        expertise_dict_raw = json.load(f)\n",
    "    for k, v in expertise_dict_raw.items() :\n",
    "        expertise_dict_2[k] = Expertise(**v)\n",
    "\n",
    "AUTHOR_FILE_PATH = \"./author_list_2.json\"\n",
    "if os.path.exists(AUTHOR_FILE_PATH) :\n",
    "    with open(AUTHOR_FILE_PATH, \"r\") as f :\n",
    "        author_list_raw = json.load(f)\n",
    "    for author in author_list_raw :\n",
    "        whole_author_list_2.append(Author(**author))\n",
    "\n",
    "WHOLE_PAPER_FILE_PATH = \"./processed_paper_dict_2.json\"\n",
    "if os.path.exists(WHOLE_PAPER_FILE_PATH) :\n",
    "    with open(WHOLE_PAPER_FILE_PATH, \"r\") as f :\n",
    "        whole_paper_dict = json.load(f)\n",
    "    for k, v in whole_paper_dict.items() :\n",
    "        whole_paper_dict_2[k] = Paper(**v)\n",
    "\n",
    "print(f\"number of institution : {len(institution_dict_2)}\")\n",
    "print(f\"number of expertise : {len(expertise_dict_2)}\")\n",
    "print(f\"number of author : {len(whole_author_list_2)}\")\n",
    "print(f\"number of paper : {len(whole_paper_dict_2)}\")\n"
   ]
  },
  {
   "cell_type": "code",
   "execution_count": 22,
   "metadata": {},
   "outputs": [
    {
     "name": "stdout",
     "output_type": "stream",
     "text": [
      "number of institution : 175\n",
      "number of expertise : 249\n",
      "number of author : 477\n",
      "number of paper : 6660\n"
     ]
    }
   ],
   "source": [
    "institution_dict.update(institution_dict_2)\n",
    "expertise_dict.update(expertise_dict_2)\n",
    "whole_author_list.extend(whole_author_list_2)\n",
    "whole_paper_dict.update(whole_paper_dict_2)\n",
    "\n",
    "\n",
    "print(f\"number of institution : {len(institution_dict)}\")\n",
    "print(f\"number of expertise : {len(expertise_dict)}\")\n",
    "print(f\"number of author : {len(whole_author_list)}\")\n",
    "print(f\"number of paper : {len(whole_paper_dict)}\")"
   ]
  },
  {
   "cell_type": "code",
   "execution_count": null,
   "metadata": {},
   "outputs": [],
   "source": [
    "wh"
   ]
  },
  {
   "cell_type": "code",
   "execution_count": 24,
   "metadata": {},
   "outputs": [],
   "source": [
    "\n",
    "whole_paper_dict_dict = {}\n",
    "for key, paper in whole_paper_dict.items() :\n",
    "    whole_paper_dict_dict[key] = paper.toDict()\n",
    "with open(\"./processed_paper_dict.json\", 'w') as f:\n",
    "    json.dump(whole_paper_dict_dict, f, indent=4, ensure_ascii=False)\n",
    "\n",
    "whole_author_dict_list = list(map(lambda author : author.toDict(), whole_author_list))\n",
    "with open(\"author_list.json\", 'w') as f :\n",
    "    json.dump(whole_author_dict_list, f, indent=4, ensure_ascii=False)\n",
    "\n",
    "institution_dict_dict = {}\n",
    "for key, institution in institution_dict.items() :\n",
    "    institution_dict_dict[key] = institution.toDict()\n",
    "    #institution_dict[key] = json.loads(institution.toJOSN())\n",
    "with open(\"institution_dict.json\", 'w') as f :\n",
    "    json.dump(institution_dict_dict, f, indent=4, ensure_ascii=False)\n",
    "\n",
    "expertise_dict_dict = {}\n",
    "for key, expertise in expertise_dict.items() :\n",
    "    expertise_dict_dict[key] = expertise.toDict()\n",
    "with open(\"expertise_dict.json\", 'w') as f :\n",
    "    json.dump(expertise_dict_dict, f, indent=4, ensure_ascii=False)\n"
   ]
  }
 ],
 "metadata": {
  "kernelspec": {
   "display_name": "first",
   "language": "python",
   "name": "python3"
  },
  "language_info": {
   "codemirror_mode": {
    "name": "ipython",
    "version": 3
   },
   "file_extension": ".py",
   "mimetype": "text/x-python",
   "name": "python",
   "nbconvert_exporter": "python",
   "pygments_lexer": "ipython3",
   "version": "3.10.9"
  }
 },
 "nbformat": 4,
 "nbformat_minor": 2
}
